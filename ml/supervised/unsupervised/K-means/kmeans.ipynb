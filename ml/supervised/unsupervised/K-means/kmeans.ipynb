{
 "cells": [
  {
   "cell_type": "code",
   "execution_count": null,
   "id": "0e34925e",
   "metadata": {},
   "outputs": [],
   "source": [
    "from sklearn.datasets import make_blobs # this id data set\n",
    "\n",
    "#generate sample data\n",
    "x,y= make_blobs(n_samples=300, centers=4, n_features=2, random_state=0,cluster_std=0.60)\n",
    "#n_samples=300 means we have 300 data points\n",
    "#n_features=2 means we have 2 features\n",
    "\n",
    "\n",
    "#center=4 means we have 4 clusters\n",
    "#n_cluster should be equal to centers\n",
    "\n",
    "\n",
    "#direct data fitting\n",
    "x.shape\n",
    "y.shape\n",
    "\n",
    "from sklearn.cluster import KMeans\n",
    "\n",
    "#training usinf default parameters\n",
    "\n",
    "obj=KMeans(n_clusters=4,random_state=0)\n"
   ]
  },
  {
   "cell_type": "code",
   "execution_count": null,
   "id": "5907df28",
   "metadata": {},
   "outputs": [],
   "source": [
    "obj.fit_predict(x)\n"
   ]
  },
  {
   "cell_type": "code",
   "execution_count": null,
   "id": "8373e39c",
   "metadata": {},
   "outputs": [],
   "source": [
    "obj.score(x)"
   ]
  },
  {
   "cell_type": "code",
   "execution_count": null,
   "id": "cd737e37",
   "metadata": {},
   "outputs": [],
   "source": [
    "# DBSCAN (Density-Based Spatial Clustering of Applications with Noise) groups points that are close together and marks points that are far away as noise.\n",
    "\n",
    "# ✅ You don’t need to tell it the number of clusters.\n",
    "\n",
    "# ❌ It may mark some points as -1 (noise) if they don’t belong to any cluster."
   ]
  },
  {
   "cell_type": "code",
   "execution_count": null,
   "id": "e759d7e8",
   "metadata": {},
   "outputs": [],
   "source": []
  },
  {
   "cell_type": "code",
   "execution_count": null,
   "id": "af310389",
   "metadata": {},
   "outputs": [],
   "source": [
    "from sklearn.datasets import make_blobs\n",
    "from sklearn.cluster import DBSCAN\n",
    "import matplotlib.pyplot as plt\n",
    "\n",
    "# 1️⃣ Generate data\n",
    "x, y = make_blobs(n_samples=300, centers=4, n_features=2, random_state=0, cluster_std=0.60)\n",
    "\n",
    "# 2️⃣ Fit DBSCAN\n",
    "obj2 = DBSCAN(eps=0.5, min_samples=5)\n",
    "y_dbscan = obj2.fit_predict(x)\n",
    "\n",
    "# 3️⃣ Plot DBSCAN Clusters\n",
    "plt.figure(figsize=(6, 5))\n",
    "plt.scatter(x[:, 0], x[:, 1], c=y_dbscan, cmap='rainbow', s=50)\n",
    "plt.title(\"DBSCAN Clustering\")\n",
    "plt.xlabel(\"Feature 1\")\n",
    "plt.ylabel(\"Feature 2\")\n",
    "plt.show()\n",
    "\n",
    "#number of clusters\n",
    "import numpy as np\n",
    "n_clusters = len(set(y_dbscan)) - (1 if -1 in y_dbscan else 0)\n",
    "print(\"Number of clusters found:\", n_clusters)\n",
    "\n",
    "\n"
   ]
  },
  {
   "cell_type": "code",
   "execution_count": null,
   "id": "9157c788",
   "metadata": {},
   "outputs": [],
   "source": [
    "from sklearn.cluster import AgglomerativeClustering\n",
    "\n",
    "obj3 = AgglomerativeClustering(n_clusters=4, linkage='ward')\n",
    "y_agglo = obj3.fit_predict(x)\n",
    "\n",
    "\n",
    "\n",
    "plt.figure(figsize=(6, 5))\n",
    "plt.scatter(x[:, 0], x[:, 1], c=y_agglo, cmap='rainbow', s=50)\n",
    "plt.title(\"Agglomerative Clustering\")"
   ]
  }
 ],
 "metadata": {
  "kernelspec": {
   "display_name": "Python 3",
   "language": "python",
   "name": "python3"
  },
  "language_info": {
   "codemirror_mode": {
    "name": "ipython",
    "version": 3
   },
   "file_extension": ".py",
   "mimetype": "text/x-python",
   "name": "python",
   "nbconvert_exporter": "python",
   "pygments_lexer": "ipython3",
   "version": "3.13.7"
  }
 },
 "nbformat": 4,
 "nbformat_minor": 5
}
