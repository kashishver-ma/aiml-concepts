{
 "cells": [
  {
   "cell_type": "code",
   "execution_count": 28,
   "id": "e3e02c54",
   "metadata": {},
   "outputs": [
    {
     "name": "stdout",
     "output_type": "stream",
     "text": [
      "Index(['loan_id', ' no_of_dependents', ' education', ' self_employed',\n",
      "       ' income_annum', ' loan_amount', ' loan_term', ' cibil_score',\n",
      "       ' residential_assets_value', ' commercial_assets_value',\n",
      "       ' luxury_assets_value', ' bank_asset_value', ' loan_status'],\n",
      "      dtype='object')\n",
      "(4269, 13)\n",
      "(4269, 13)\n",
      "[' Graduate' ' Not Graduate']\n",
      "[' No' ' Yes']\n",
      "   loan_id   no_of_dependents   education   self_employed   income_annum  \\\n",
      "0        1                  2           1               0        9600000   \n",
      "1        2                  0           0               1        4100000   \n",
      "2        3                  3           1               0        9100000   \n",
      "3        4                  3           1               0        8200000   \n",
      "4        5                  5           0               1        9800000   \n",
      "\n",
      "    loan_amount   loan_term   cibil_score   residential_assets_value  \\\n",
      "0      29900000          12           778                    2400000   \n",
      "1      12200000           8           417                    2700000   \n",
      "2      29700000          20           506                    7100000   \n",
      "3      30700000           8           467                   18200000   \n",
      "4      24200000          20           382                   12400000   \n",
      "\n",
      "    commercial_assets_value   luxury_assets_value   bank_asset_value  \\\n",
      "0                  17600000              22700000            8000000   \n",
      "1                   2200000               8800000            3300000   \n",
      "2                   4500000              33300000           12800000   \n",
      "3                   3300000              23300000            7900000   \n",
      "4                   8200000              29400000            5000000   \n",
      "\n",
      "   loan_status  \n",
      "0     Approved  \n",
      "1     Rejected  \n",
      "2     Rejected  \n",
      "3     Rejected  \n",
      "4     Rejected  \n"
     ]
    }
   ],
   "source": [
    "import pandas as pd\n",
    "\n",
    "df=pd.read_csv(\"loan_approval_dataset.csv\")\n",
    "\n",
    "print(df.columns)\n",
    "\n",
    "print(df.shape)\n",
    "df.dropna(inplace=True)\n",
    "df.drop_duplicates(inplace=True)\n",
    "print(df.shape)\n",
    "\n",
    "print(df[\" education\"].unique())\n",
    "print(df[\" self_employed\"].unique())\n",
    "\n",
    "key={\n",
    "    \" Graduate\":1,\n",
    "    \" Not Graduate\":0,\n",
    "\" No\": 0,\n",
    "\" Yes\": 1\n",
    "}\n",
    "\n",
    "df[\" education\"]=df[\" education\"].map(key)\n",
    "df[\" self_employed\"]=df[\" self_employed\"].map(key)\n",
    "print(df.head())\n",
    "\n",
    "df.drop(columns=[\"loan_id\"],inplace=True)\n",
    "\n"
   ]
  },
  {
   "cell_type": "code",
   "execution_count": null,
   "id": "5ce71d12",
   "metadata": {},
   "outputs": [
    {
     "name": "stdout",
     "output_type": "stream",
     "text": [
      "(3415, 11) (854, 11) (3415,) (854,)\n"
     ]
    }
   ],
   "source": [
    "#splitting data for training and testing\n",
    "\n",
    "from sklearn.model_selection import train_test_split\n",
    "X = df.drop(columns=[\" loan_status\"])\n",
    "y = df[\" loan_status\"]\n",
    "\n",
    "X_train, X_test, y_train, y_test = train_test_split(X, y, test_size=0.2, random_state=42)\n",
    "print(X_train.shape, X_test.shape, y_train.shape, y_test.shape)\n",
    "\n",
    "\n"
   ]
  },
  {
   "cell_type": "code",
   "execution_count": 37,
   "id": "33218654",
   "metadata": {},
   "outputs": [
    {
     "name": "stdout",
     "output_type": "stream",
     "text": [
      "Train Accuracy: 79.50219619326501\n",
      "Test Accuracy : 79.85948477751757\n"
     ]
    }
   ],
   "source": [
    "from sklearn.linear_model import LogisticRegression\n",
    "\n",
    "# Create and train the model\n",
    "model = LogisticRegression(max_iter=500)   # added max_iter to avoid warning\n",
    "model.fit(X_train, y_train)\n",
    "\n",
    "# 🔎 Accuracy on test and train\n",
    "print(\"Train Accuracy:\", model.score(X_train, y_train) * 100)\n",
    "print(\"Test Accuracy :\", model.score(X_test, y_test) * 100)\n",
    "\n",
    "# 🔮 Predictions\n",
    "pred_test = model.predict(X_test)\n",
    "pred_train = model.predict(X_train)\n",
    "\n",
    "# print(\"Predicted values on test data:\", pred_test)\n",
    "# print(\"Predicted values on train data:\", pred_train)\n"
   ]
  }
 ],
 "metadata": {
  "kernelspec": {
   "display_name": "Python 3",
   "language": "python",
   "name": "python3"
  },
  "language_info": {
   "codemirror_mode": {
    "name": "ipython",
    "version": 3
   },
   "file_extension": ".py",
   "mimetype": "text/x-python",
   "name": "python",
   "nbconvert_exporter": "python",
   "pygments_lexer": "ipython3",
   "version": "3.13.7"
  }
 },
 "nbformat": 4,
 "nbformat_minor": 5
}
