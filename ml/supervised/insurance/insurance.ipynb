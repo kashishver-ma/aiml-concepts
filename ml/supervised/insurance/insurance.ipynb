{
 "cells": [
  {
   "cell_type": "code",
   "execution_count": 37,
   "id": "7529bf95",
   "metadata": {},
   "outputs": [
    {
     "name": "stdout",
     "output_type": "stream",
     "text": [
      "   age     sex     bmi  children smoker     region      charges\n",
      "0   19  female  27.900         0    yes  southwest  16884.92400\n",
      "1   18    male  33.770         1     no  southeast   1725.55230\n",
      "2   28    male  33.000         3     no  southeast   4449.46200\n",
      "3   33    male  22.705         0     no  northwest  21984.47061\n",
      "4   32    male  28.880         0     no  northwest   3866.85520\n",
      "(1338, 7)\n",
      "(1337, 7)\n",
      "   age     bmi  children  smoker      charges\n",
      "0   19  27.900         0       1  16884.92400\n",
      "1   18  33.770         1       0   1725.55230\n",
      "2   28  33.000         3       0   4449.46200\n",
      "3   33  22.705         0       0  21984.47061\n",
      "4   32  28.880         0       0   3866.85520\n"
     ]
    }
   ],
   "source": [
    "#load data random forste work\n",
    "\n",
    "import pandas as pd\n",
    "\n",
    "df = pd.read_csv('insurance.csv')\n",
    "print(df.head())\n",
    "\n",
    "print(df.shape)\n",
    "\n",
    "df.drop_duplicates(inplace=True)\n",
    "print(df.shape)\n",
    "\n",
    "df.dropna(inplace=True)\n",
    "\n",
    "df[\"smoker\"].unique()\n",
    "\n",
    "key = {\n",
    "    \"yes\": 1,\n",
    "    \"no\": 0\n",
    "}\n",
    "\n",
    "df[\"smoker\"]=df[\"smoker\"].map(key)\n",
    "\n",
    "\n",
    "df.drop(columns=[\"sex\",\"region\"],inplace=True)\n",
    "print(df.head())\n"
   ]
  },
  {
   "cell_type": "code",
   "execution_count": 38,
   "id": "f952eb99",
   "metadata": {},
   "outputs": [
    {
     "name": "stdout",
     "output_type": "stream",
     "text": [
      "(1069, 4) (268, 4) (1069,) (268,)\n"
     ]
    }
   ],
   "source": [
    "from sklearn.model_selection import train_test_split\n",
    "X = df.drop(columns=[\"charges\"])\n",
    "y = df[\"charges\"]\n",
    "\n",
    "X_train, X_test, y_train, y_test = train_test_split(X, y, test_size=0.2, random_state=42)\n",
    "print(X_train.shape, X_test.shape, y_train.shape, y_test.shape)"
   ]
  },
  {
   "cell_type": "code",
   "execution_count": 55,
   "id": "c7c15766",
   "metadata": {},
   "outputs": [
    {
     "name": "stdout",
     "output_type": "stream",
     "text": [
      "0.8045531086669289\n",
      ".....*************************************....\n",
      "linear regression performance : \n",
      "test score 0.8045531086669289\n",
      "train score 0.7292160493765238\n"
     ]
    }
   ],
   "source": [
    "from sklearn.linear_model import LinearRegression\n",
    "\n",
    "model = LinearRegression()\n",
    "model.fit(X_train,y_train)\n",
    "print(model.score(X_test,y_test))\n",
    "# model.score(x_train, y_train)\n",
    "# model.score(x_test, y_test)\n",
    "# \n",
    "model.predict(X_test)\n",
    "# print(X_test)\n",
    "print(\".....*************************************....\")\n",
    "# print(y_test)\n",
    "\n",
    "print(\"linear regression performance : \")\n",
    "\n",
    "print(\"test score\" ,model.score(X_test,y_test))\n",
    "print(\"train score\" ,model.score(X_train,y_train))\n",
    "\n",
    "\n",
    "\n",
    "\n",
    "\n",
    "\n"
   ]
  },
  {
   "cell_type": "code",
   "execution_count": 54,
   "id": "2487ce90",
   "metadata": {},
   "outputs": [
    {
     "name": "stdout",
     "output_type": "stream",
     "text": [
      "0.8715881305372959\n",
      "....*********************************........\n",
      "Random Forest Regressor Performance:\n",
      "Training Score: 0.9723925092225512\n",
      "Testing Score: 0.8715881305372959\n"
     ]
    }
   ],
   "source": [
    "#applying random forest\n",
    "from sklearn.ensemble import RandomForestRegressor\n",
    "\n",
    "rf = RandomForestRegressor(n_estimators=100, random_state=42)\n",
    "rf.fit(X_train, y_train)\n",
    "print(rf.score(X_test, y_test))\n",
    "pred= rf.predict(X_test)\n",
    "# print(pred)\n",
    "# print(X_test)\n",
    "print(\"....*********************************........\")\n",
    "# print(y_test)\n",
    "\n",
    "print(\"Random Forest Regressor Performance:\")\n",
    "print(\"Training Score:\", rf.score(X_train, y_train))\n",
    "print(\"Testing Score:\", rf.score(X_test, y_test))\n",
    "\n",
    "\n",
    "# rf.score(X_train, y_train)\n",
    "# rf.score(X_test, y_test)\n"
   ]
  }
 ],
 "metadata": {
  "kernelspec": {
   "display_name": "Python 3",
   "language": "python",
   "name": "python3"
  },
  "language_info": {
   "codemirror_mode": {
    "name": "ipython",
    "version": 3
   },
   "file_extension": ".py",
   "mimetype": "text/x-python",
   "name": "python",
   "nbconvert_exporter": "python",
   "pygments_lexer": "ipython3",
   "version": "3.13.7"
  }
 },
 "nbformat": 4,
 "nbformat_minor": 5
}
