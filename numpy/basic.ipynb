{
 "cells": [
  {
   "cell_type": "code",
   "execution_count": null,
   "id": "e63ac1bf",
   "metadata": {},
   "outputs": [],
   "source": [
    "import numpy as np\n"
   ]
  },
  {
   "cell_type": "code",
   "execution_count": 12,
   "id": "725a05b4",
   "metadata": {},
   "outputs": [
    {
     "name": "stdout",
     "output_type": "stream",
     "text": [
      "array [1 2 3]\n",
      "datatype int64\n",
      "type <class 'numpy.ndarray'>\n"
     ]
    }
   ],
   "source": [
    "arr=np.array([1, 2, 3])\n",
    "print(\"array\" ,arr)\n",
    "print(\"datatype\", arr.dtype)\n",
    "print(\"type\",type(arr))\n"
   ]
  },
  {
   "cell_type": "code",
   "execution_count": 29,
   "id": "6705516a",
   "metadata": {},
   "outputs": [
    {
     "name": "stdout",
     "output_type": "stream",
     "text": [
      "[ 0  1  2  3  4  5  6  7  8  9 10 11 12 13 14 15 16 17 18 19]\n"
     ]
    }
   ],
   "source": [
    "\n",
    "\n",
    "arr1=np.arange(20)\n",
    "print(arr1)\n"
   ]
  },
  {
   "cell_type": "code",
   "execution_count": 43,
   "id": "3d095f10",
   "metadata": {},
   "outputs": [
    {
     "name": "stdout",
     "output_type": "stream",
     "text": [
      "[1 2 3 4]\n",
      "[4 5 6 2]\n",
      "add [5 7 9 6]\n",
      "sub [-3 -3 -3  2]\n",
      "mul [ 4 10 18  8]\n",
      "div [0.25 0.4  0.5  2.  ]\n"
     ]
    }
   ],
   "source": [
    "arr2=np.array([1,2,3,4])\n",
    "print(arr2)\n",
    "\n",
    "arr3=np.array([4,5,6,2])\n",
    "print(arr3)\n",
    "\n",
    "add=arr2+arr3\n",
    "print(\"add\",add)\n",
    "\n",
    "sub=arr2-arr3\n",
    "print(\"sub\",sub)\n",
    "\n",
    "mul=arr2*arr3\n",
    "print(\"mul\",mul)\n",
    "\n",
    "div=arr2/arr3\n",
    "print(\"div\",div)\n",
    "\n"
   ]
  },
  {
   "cell_type": "code",
   "execution_count": 47,
   "id": "1d32d669",
   "metadata": {},
   "outputs": [
    {
     "name": "stdout",
     "output_type": "stream",
     "text": [
      "[0. 0. 0. 0. 0.]\n",
      "[1. 1. 1. 1. 1.]\n",
      "[1 1 1 1 1]\n"
     ]
    }
   ],
   "source": [
    "print(np.zeros(5))  #float datatype\n",
    "print(np.ones(5)) #float datatype\n",
    "print(np.ones(5, dtype=int)) #int datatype"
   ]
  },
  {
   "cell_type": "code",
   "execution_count": 56,
   "id": "ab2cc9b0",
   "metadata": {},
   "outputs": [
    {
     "name": "stdout",
     "output_type": "stream",
     "text": [
      "[ 0  1  2  3  4  5  6  7  8  9 10 11 12 13 14 15 16 17 18 19 20 21 22 23\n",
      " 24 25 26 27 28 29 30 31 32 33 34 35 36 37 38 39 40 41 42 43 44 45 46 47\n",
      " 48 49 50 51 52 53 54 55 56 57 58 59]\n",
      "1\n",
      "shape (60,)\n",
      "60\n",
      "int64\n"
     ]
    }
   ],
   "source": [
    "arr4=np.arange(60)\n",
    "print(arr4, sep=\"\\n\")\n",
    "print(arr4.ndim)\n",
    "print(\"shape\" ,arr4.shape)\n",
    "print(arr4.size)\n",
    "print(arr4.dtype)"
   ]
  },
  {
   "cell_type": "code",
   "execution_count": 65,
   "id": "2114881e",
   "metadata": {},
   "outputs": [
    {
     "name": "stdout",
     "output_type": "stream",
     "text": [
      "[[ 0  1  2  3  4  5  6  7  8  9]\n",
      " [10 11 12 13 14 15 16 17 18 19]\n",
      " [20 21 22 23 24 25 26 27 28 29]\n",
      " [30 31 32 33 34 35 36 37 38 39]\n",
      " [40 41 42 43 44 45 46 47 48 49]\n",
      " [50 51 52 53 54 55 56 57 58 59]]\n",
      "2\n",
      "shape (6, 10)\n",
      "True\n"
     ]
    }
   ],
   "source": [
    "# 1 d array to 2 d array\n",
    "arr4=arr4.reshape(6,10)\n",
    "print(arr4)\n",
    "print(arr4.ndim)\n",
    "print(\"shape\" ,arr4.shape)\n",
    "print(arr4.size==arr4.shape[0]*arr4.shape[1])"
   ]
  },
  {
   "cell_type": "code",
   "execution_count": 98,
   "id": "f4c27b3e",
   "metadata": {},
   "outputs": [
    {
     "name": "stdout",
     "output_type": "stream",
     "text": [
      "[[ 0  1  2  3  4  5  6  7  8  9]\n",
      " [10 11 12 13 14 15 16 17 18 19]]\n",
      "\n",
      "[ 3 13]\n",
      "last elemnt)\n",
      "59\n",
      "59\n",
      "(6, 10)\n"
     ]
    }
   ],
   "source": [
    "# indexing and slicing?\n",
    "# print(arr4[2,3])\n",
    "# print(arr4[2][3])\n",
    "# print(arr4[0:5, 0:4])\n",
    "print(arr4[0:2])\n",
    "print()\n",
    "print(arr4[0:2,3])\n",
    "\n",
    "print(\"last elemnt)\")\n",
    "\n",
    "print(arr4[-1,-1])\n",
    "print(arr4[arr4.shape[0]-1, arr4.shape[1]-1])\n",
    "# print(arr4[:, 3])\n",
    "print(arr4.shape)"
   ]
  },
  {
   "cell_type": "code",
   "execution_count": null,
   "id": "78632506",
   "metadata": {},
   "outputs": [
    {
     "name": "stdout",
     "output_type": "stream",
     "text": [
      "[[  0   1   2   3   4   5   6   7   8   9  10  11  12  13  14  15  16  17\n",
      "   18  19  20  21  22  23  24  25  26  27  28  29  30  31  32  33  34  35\n",
      "   36  37  38  39  40  41  42  43  44  45  46  47  48  49  50  51  52  53\n",
      "   54  55  56  57  58  59]\n",
      " [ 60  61  62  63  64  65  66  67  68  69  70  71  72  73  74  75  76  77\n",
      "   78  79  80  81  82  83  84  85  86  87  88  89  90  91  92  93  94  95\n",
      "   96  97  98  99 100 101 102 103 104 105 106 107 108 109 110 111 112 113\n",
      "  114 115 116 117 118 119]]\n",
      "after \n",
      "[[[  0   1   2   3   4   5   6   7   8   9]\n",
      "  [ 10  11  12  13  14  15  16  17  18  19]\n",
      "  [ 20  21  22  23  24  25  26  27  28  29]\n",
      "  [ 30  31  32  33  34  35  36  37  38  39]\n",
      "  [ 40  41  42  43  44  45  46  47  48  49]\n",
      "  [ 50  51  52  53  54  55  56  57  58  59]]\n",
      "\n",
      " [[ 60  61  62  63  64  65  66  67  68  69]\n",
      "  [ 70  71  72  73  74  75  76  77  78  79]\n",
      "  [ 80  81  82  83  84  85  86  87  88  89]\n",
      "  [ 90  91  92  93  94  95  96  97  98  99]\n",
      "  [100 101 102 103 104 105 106 107 108 109]\n",
      "  [110 111 112 113 114 115 116 117 118 119]]]\n",
      "3\n"
     ]
    }
   ],
   "source": [
    "# i d array to 3 d\n",
    "\n",
    "arr5=np.arange(120).reshape(2,60)\n",
    "print(arr5)\n",
    "print(\"after \",sep=\"\\n\")\n",
    "arr5=arr5.reshape(2,6,10)\n",
    "print(arr5)\n",
    "print(arr5.ndim)\n"
   ]
  },
  {
   "cell_type": "code",
   "execution_count": 151,
   "id": "206056d7",
   "metadata": {},
   "outputs": [
    {
     "name": "stdout",
     "output_type": "stream",
     "text": [
      "[[0 1 2]\n",
      " [3 4 5]]\n",
      "(2, 3)\n",
      "[[0 3]\n",
      " [1 4]\n",
      " [2 5]]\n",
      "(3, 2)\n"
     ]
    }
   ],
   "source": [
    "\n",
    "arr5=np.arange(6).reshape(2,3)\n",
    "print(arr5)\n",
    "print(arr5.shape)\n",
    "arr5=arr5.T\n",
    "print(arr5)\n",
    "print(arr5.shape)\n",
    "\n"
   ]
  },
  {
   "cell_type": "code",
   "execution_count": 165,
   "id": "fcdebf82",
   "metadata": {},
   "outputs": [
    {
     "name": "stdout",
     "output_type": "stream",
     "text": [
      "[[0 3]\n",
      " [1 4]\n",
      " [2 5]]\n",
      "(3, 2)\n",
      "[0 3 1 4 2 5]\n",
      "(6,)\n",
      "[0 3 1 4 2 5]\n",
      "(6,)\n",
      "\n",
      "\n",
      "\n",
      "[[[ 0  1  2  3]\n",
      "  [ 4  5  6  7]\n",
      "  [ 8  9 10 11]]\n",
      "\n",
      " [[12 13 14 15]\n",
      "  [16 17 18 19]\n",
      "  [20 21 22 23]]]\n",
      "(2, 3, 4)\n",
      "3\n",
      "[ 0  1  2  3  4  5  6  7  8  9 10 11 12 13 14 15 16 17 18 19 20 21 22 23]\n",
      "(24,)\n",
      "[ 0  1  2  3  4  5  6  7  8  9 10 11 12 13 14 15 16 17 18 19 20 21 22 23]\n",
      "(24,)\n",
      "5\n",
      "()\n",
      "0\n"
     ]
    }
   ],
   "source": [
    "#3d to 1 d\n",
    "print(arr5)\n",
    "print(arr5.shape)\n",
    "\n",
    "# arr5.flatten() #it flattens the array flatten() creates a new 1D copy of the original array.\n",
    "print(arr5.flatten())\n",
    "print(arr5.flatten().shape)\n",
    "\n",
    "# arr5.ravel() #it flattens the array but it is a view of original array\n",
    "print(arr5.ravel())  # one return value one dont\n",
    "print(arr5.ravel().shape)\n",
    "\n",
    "# ravel() also flattens the array — but it returns a view of the original array (whenever possible).\n",
    "\n",
    "# # That means changes to this flattened view will also change arr5.\n",
    "# flatten() → New 1D copy (safe, independent).\n",
    "\n",
    "# ravel() → 1D view (more memory-efficient, changes reflect).\n",
    "print()\n",
    "print()\n",
    "print()\n",
    "arr7=np.arange(24).reshape(2,3,4)\n",
    "print(arr7)\n",
    "print(arr7.shape)\n",
    "print(arr7.ndim)\n",
    "print(arr7.flatten())\n",
    "print(arr7.flatten().shape)\n",
    "print(arr7.ravel())\n",
    "print(arr7.ravel().shape)\n",
    "arr7=arr7.flatten()[5]\n",
    "\n",
    "print(arr7)\n",
    "print(arr7.shape)\n",
    "print(arr7.ndim)\n"
   ]
  }
 ],
 "metadata": {
  "kernelspec": {
   "display_name": "Python 3",
   "language": "python",
   "name": "python3"
  },
  "language_info": {
   "codemirror_mode": {
    "name": "ipython",
    "version": 3
   },
   "file_extension": ".py",
   "mimetype": "text/x-python",
   "name": "python",
   "nbconvert_exporter": "python",
   "pygments_lexer": "ipython3",
   "version": "3.13.7"
  }
 },
 "nbformat": 4,
 "nbformat_minor": 5
}
